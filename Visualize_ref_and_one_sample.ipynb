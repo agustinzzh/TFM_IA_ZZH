{
 "cells": [
  {
   "cell_type": "code",
   "execution_count": 1,
   "id": "a11b5cd6",
   "metadata": {},
   "outputs": [
    {
     "ename": "AttributeError",
     "evalue": "module 'numpy.random' has no attribute 'Generator'",
     "output_type": "error",
     "traceback": [
      "\u001b[0;31m---------------------------------------------------------------------------\u001b[0m",
      "\u001b[0;31mAttributeError\u001b[0m                            Traceback (most recent call last)",
      "Input \u001b[0;32mIn [1]\u001b[0m, in \u001b[0;36m<cell line: 1>\u001b[0;34m()\u001b[0m\n\u001b[0;32m----> 1\u001b[0m \u001b[38;5;28;01mimport\u001b[39;00m \u001b[38;5;21;01mpandas\u001b[39;00m \u001b[38;5;28;01mas\u001b[39;00m \u001b[38;5;21;01mpd\u001b[39;00m\n\u001b[1;32m      2\u001b[0m \u001b[38;5;28;01mimport\u001b[39;00m \u001b[38;5;21;01mnumpy\u001b[39;00m \u001b[38;5;28;01mas\u001b[39;00m \u001b[38;5;21;01mnp\u001b[39;00m\n\u001b[1;32m      3\u001b[0m \u001b[38;5;28;01mimport\u001b[39;00m \u001b[38;5;21;01mmatplotlib\u001b[39;00m\u001b[38;5;21;01m.\u001b[39;00m\u001b[38;5;21;01mpyplot\u001b[39;00m \u001b[38;5;28;01mas\u001b[39;00m \u001b[38;5;21;01mplt\u001b[39;00m\n",
      "File \u001b[0;32m~/opt/anaconda3/envs/aa/lib/python3.8/site-packages/pandas/__init__.py:22\u001b[0m, in \u001b[0;36m<module>\u001b[0;34m\u001b[0m\n\u001b[1;32m     19\u001b[0m \u001b[38;5;28;01mdel\u001b[39;00m hard_dependencies, dependency, missing_dependencies\n\u001b[1;32m     21\u001b[0m \u001b[38;5;66;03m# numpy compat\u001b[39;00m\n\u001b[0;32m---> 22\u001b[0m \u001b[38;5;28;01mfrom\u001b[39;00m \u001b[38;5;21;01mpandas\u001b[39;00m\u001b[38;5;21;01m.\u001b[39;00m\u001b[38;5;21;01mcompat\u001b[39;00m \u001b[38;5;28;01mimport\u001b[39;00m is_numpy_dev \u001b[38;5;28;01mas\u001b[39;00m _is_numpy_dev\n\u001b[1;32m     24\u001b[0m \u001b[38;5;28;01mtry\u001b[39;00m:\n\u001b[1;32m     25\u001b[0m     \u001b[38;5;28;01mfrom\u001b[39;00m \u001b[38;5;21;01mpandas\u001b[39;00m\u001b[38;5;21;01m.\u001b[39;00m\u001b[38;5;21;01m_libs\u001b[39;00m \u001b[38;5;28;01mimport\u001b[39;00m hashtable \u001b[38;5;28;01mas\u001b[39;00m _hashtable, lib \u001b[38;5;28;01mas\u001b[39;00m _lib, tslib \u001b[38;5;28;01mas\u001b[39;00m _tslib\n",
      "File \u001b[0;32m~/opt/anaconda3/envs/aa/lib/python3.8/site-packages/pandas/compat/__init__.py:14\u001b[0m, in \u001b[0;36m<module>\u001b[0;34m\u001b[0m\n\u001b[1;32m     11\u001b[0m \u001b[38;5;28;01mimport\u001b[39;00m \u001b[38;5;21;01mplatform\u001b[39;00m\n\u001b[1;32m     12\u001b[0m \u001b[38;5;28;01mimport\u001b[39;00m \u001b[38;5;21;01msys\u001b[39;00m\n\u001b[0;32m---> 14\u001b[0m \u001b[38;5;28;01mfrom\u001b[39;00m \u001b[38;5;21;01mpandas\u001b[39;00m\u001b[38;5;21;01m.\u001b[39;00m\u001b[38;5;21;01m_typing\u001b[39;00m \u001b[38;5;28;01mimport\u001b[39;00m F\n\u001b[1;32m     15\u001b[0m \u001b[38;5;28;01mfrom\u001b[39;00m \u001b[38;5;21;01mpandas\u001b[39;00m\u001b[38;5;21;01m.\u001b[39;00m\u001b[38;5;21;01mcompat\u001b[39;00m\u001b[38;5;21;01m.\u001b[39;00m\u001b[38;5;21;01mnumpy\u001b[39;00m \u001b[38;5;28;01mimport\u001b[39;00m (\n\u001b[1;32m     16\u001b[0m     is_numpy_dev,\n\u001b[1;32m     17\u001b[0m     np_version_under1p19,\n\u001b[1;32m     18\u001b[0m     np_version_under1p20,\n\u001b[1;32m     19\u001b[0m )\n\u001b[1;32m     20\u001b[0m \u001b[38;5;28;01mfrom\u001b[39;00m \u001b[38;5;21;01mpandas\u001b[39;00m\u001b[38;5;21;01m.\u001b[39;00m\u001b[38;5;21;01mcompat\u001b[39;00m\u001b[38;5;21;01m.\u001b[39;00m\u001b[38;5;21;01mpyarrow\u001b[39;00m \u001b[38;5;28;01mimport\u001b[39;00m (\n\u001b[1;32m     21\u001b[0m     pa_version_under1p01,\n\u001b[1;32m     22\u001b[0m     pa_version_under2p0,\n\u001b[1;32m     23\u001b[0m     pa_version_under3p0,\n\u001b[1;32m     24\u001b[0m     pa_version_under4p0,\n\u001b[1;32m     25\u001b[0m )\n",
      "File \u001b[0;32m~/opt/anaconda3/envs/aa/lib/python3.8/site-packages/pandas/_typing.py:119\u001b[0m, in \u001b[0;36m<module>\u001b[0;34m\u001b[0m\n\u001b[1;32m    113\u001b[0m Frequency \u001b[38;5;241m=\u001b[39m Union[\u001b[38;5;28mstr\u001b[39m, \u001b[38;5;124m\"\u001b[39m\u001b[38;5;124mDateOffset\u001b[39m\u001b[38;5;124m\"\u001b[39m]\n\u001b[1;32m    114\u001b[0m Axes \u001b[38;5;241m=\u001b[39m Collection[Any]\n\u001b[1;32m    116\u001b[0m RandomState \u001b[38;5;241m=\u001b[39m Union[\n\u001b[1;32m    117\u001b[0m     \u001b[38;5;28mint\u001b[39m,\n\u001b[1;32m    118\u001b[0m     ArrayLike,\n\u001b[0;32m--> 119\u001b[0m     \u001b[43mnp\u001b[49m\u001b[38;5;241;43m.\u001b[39;49m\u001b[43mrandom\u001b[49m\u001b[38;5;241;43m.\u001b[39;49m\u001b[43mGenerator\u001b[49m,\n\u001b[1;32m    120\u001b[0m     np\u001b[38;5;241m.\u001b[39mrandom\u001b[38;5;241m.\u001b[39mBitGenerator,\n\u001b[1;32m    121\u001b[0m     np\u001b[38;5;241m.\u001b[39mrandom\u001b[38;5;241m.\u001b[39mRandomState,\n\u001b[1;32m    122\u001b[0m ]\n\u001b[1;32m    124\u001b[0m \u001b[38;5;66;03m# dtypes\u001b[39;00m\n\u001b[1;32m    125\u001b[0m NpDtype \u001b[38;5;241m=\u001b[39m Union[\u001b[38;5;28mstr\u001b[39m, np\u001b[38;5;241m.\u001b[39mdtype, type_t[Union[\u001b[38;5;28mstr\u001b[39m, \u001b[38;5;28mfloat\u001b[39m, \u001b[38;5;28mint\u001b[39m, \u001b[38;5;28mcomplex\u001b[39m, \u001b[38;5;28mbool\u001b[39m, \u001b[38;5;28mobject\u001b[39m]]]\n",
      "\u001b[0;31mAttributeError\u001b[0m: module 'numpy.random' has no attribute 'Generator'"
     ]
    }
   ],
   "source": [
    "import pandas as pd\n",
    "import numpy as np\n",
    "import matplotlib.pyplot as plt\n",
    "import cv2"
   ]
  },
  {
   "cell_type": "code",
   "execution_count": null,
   "id": "6192d9dc",
   "metadata": {},
   "outputs": [],
   "source": [
    "df1 = pd.read_table('/Users/agustinzhang/Downloads/master_AI/TFM/Dato/Dato_prueba/IMG_2922.txt', sep = '\\t', skiprows = 2)\n",
    "df2 = pd.read_table('/Users/agustinzhang/Downloads/master_AI/TFM/Dato/Dato_prueba/180MUA_Formatted_F.txt', sep = '\\t', header = None)\n",
    "df2 = df2.dropna(axis = 0, how = 'any')"
   ]
  },
  {
   "cell_type": "code",
   "execution_count": null,
   "id": "b1a4a6df",
   "metadata": {},
   "outputs": [],
   "source": [
    "\n",
    "catlist = []\n",
    "for n in range(0, 10):\n",
    "    for i in range(0,8):\n",
    "        catlist.append(n)\n",
    "        \n",
    "df2['5'] = catlist\n",
    "df2.columns = ['D_AB', 'X', 'Y', 'Z', 'r', 'PT']\n",
    "\n",
    "df_point = df2[~ df2['D_AB'].str.contains('B')]\n",
    "df_point = df_point[['D_AB', 'X', 'Y', 'r', 'PT']]"
   ]
  },
  {
   "cell_type": "code",
   "execution_count": null,
   "id": "b89da856",
   "metadata": {},
   "outputs": [],
   "source": [
    "\n",
    "listpoint = []\n",
    "for i in range(10):\n",
    "    plt.subplot(2, 5, i+1)\n",
    "    listpoint = df_point[['X', 'Y', 'r']][df_point.PT == i].values.tolist()\n",
    "    for (x, y, r) in listpoint:\n",
    "        plt.plot(x, y, 'o', ms = 5)\n",
    "        index = listpoint.index([x, y, r])\n",
    "        plt.annotate(index, xy= (x,y), xytext = (x+0.1,y+0.1))\n",
    "        \n",
    "    plt.grid()\n",
    "    x_major_locator = plt.MultipleLocator(1)\n",
    "    y_major_locator = plt.MultipleLocator(1)\n",
    "    ax = plt.gca()\n",
    "    ax.xaxis.set_major_locator(x_major_locator)\n",
    "    ax.yaxis.set_major_locator(y_major_locator)"
   ]
  },
  {
   "cell_type": "code",
   "execution_count": null,
   "id": "68551906",
   "metadata": {},
   "outputs": [],
   "source": [
    "\n",
    "df_trans = df1[['H', 'V', 'R', 'C', 'PT']]\n",
    "df_trans['H'] = df_trans.H+2000.5\n",
    "df_trans['V'] = df_trans.V+1500.5\n",
    "\n",
    "x = df_trans['H'][0]\n",
    "y = df_trans['V'][0]\n",
    "r = df_trans['R'][0]\n"
   ]
  },
  {
   "cell_type": "code",
   "execution_count": null,
   "id": "3b3d5680",
   "metadata": {},
   "outputs": [],
   "source": [
    "newImg = np.zeros((3001,4001,3), np.uint8)\n",
    "newImg.fill(0)\n",
    "\n",
    "\n",
    "\n",
    "for i in range(6):\n",
    "    listpoint = df_trans[['H', 'V', 'R']][df_trans.PT == i].values.tolist()\n",
    "    for (x, y, r) in listpoint:\n",
    "        cv2.circle(newImg, (int(x),int(y)), int(r), (i*40,255-i*40,i*45), 3)\n",
    "        cv2.putText(newImg, str(i), (int(x),int(y)), cv2.FONT_HERSHEY_COMPLEX, 0.7, (i*40,255-i*40,i*45), 3)\n",
    "\n",
    "cv2.line(newImg, (0,1501), (4001,1501), (255,255,255), 2)\n",
    "cv2.line(newImg, (2001,0), (2001,3001), (255,255,255), 2)\n",
    "cv2.imshow('newimg', newImg)"
   ]
  }
 ],
 "metadata": {
  "kernelspec": {
   "display_name": "Python 3 (ipykernel)",
   "language": "python",
   "name": "python3"
  },
  "language_info": {
   "codemirror_mode": {
    "name": "ipython",
    "version": 3
   },
   "file_extension": ".py",
   "mimetype": "text/x-python",
   "name": "python",
   "nbconvert_exporter": "python",
   "pygments_lexer": "ipython3",
   "version": "3.8.13"
  }
 },
 "nbformat": 4,
 "nbformat_minor": 5
}
